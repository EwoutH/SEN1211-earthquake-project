{
 "cells": [
  {
   "cell_type": "code",
   "execution_count": 8,
   "metadata": {
    "collapsed": true
   },
   "outputs": [],
   "source": [
    "%matplotlib inline\n",
    "\n",
    "import pandas as pd\n",
    "import matplotlib.pyplot as plt\n",
    "import seaborn as sns\n",
    "sns.set_style('white')\n",
    "sns.set_context('talk')\n",
    "import os\n",
    "\n",
    "os.environ[\"JAVA_HOME\"] = 'C:/Program Files/NetLogo 6.3.0/runtime/bin/server/'\n",
    "\n",
    "import pyNetLogo\n",
    "import ipyparallel as ipp"
   ]
  },
  {
   "cell_type": "code",
   "execution_count": 9,
   "outputs": [],
   "source": [
    "series_reporters = [\n",
    "    \"recovered-hospital\",\n",
    "    \"recovered-with-help\",\n",
    "    \"recovered-unchecked\",\n",
    "    \"fraction-called-in\",\n",
    "    \"deaths\",\n",
    "    \"number-destroyed-streets-spotted\",\n",
    "    \"fraction-destroyed-streets-spotted\",\n",
    "]\n",
    "\n",
    "single_reporters = [\n",
    "    'count crossings with [building-status = \"collapsed\"]',\n",
    "    'count crossings with [building-status = \"high-damage\"]',\n",
    "    \"number-destroyed-streets\",\n",
    "]"
   ],
   "metadata": {
    "collapsed": false
   }
  },
  {
   "cell_type": "code",
   "execution_count": 10,
   "outputs": [],
   "source": [
    "default_values = {\n",
    "    \"earthquake-magnitude\": 0.4,\n",
    "    \"amount-ambulances\": 40,\n",
    "    \"amount-drones\": 10,\n",
    "}"
   ],
   "metadata": {
    "collapsed": false
   }
  },
  {
   "cell_type": "code",
   "execution_count": 11,
   "outputs": [],
   "source": [
    "replications = 1\n",
    "ticks = 5"
   ],
   "metadata": {
    "collapsed": false
   }
  },
  {
   "cell_type": "code",
   "execution_count": 16,
   "outputs": [],
   "source": [
    "def run_simulation(variable, value):\n",
    "    netlogo = pyNetLogo.NetLogoLink(gui=False)\n",
    "    netlogo.load_model(\"C:/Users/Ewout/Documents/GitHub/SEN1211-earthquake-project/models_netlogo/earthquake_model.nlogo\")\n",
    "\n",
    "    netlogo.command(\"setup\")\n",
    "    netlogo.command(f\"set {variable} {value}\")\n",
    "    single_run_data = netlogo.report(single_reporters)\n",
    "    series_run_data = netlogo.repeat_report(series_reporters, ticks)\n",
    "    netlogo.kill_workspace()\n",
    "    return (single_run_data, series_run_data)"
   ],
   "metadata": {
    "collapsed": false
   }
  },
  {
   "cell_type": "code",
   "execution_count": 17,
   "outputs": [
    {
     "data": {
      "text/plain": "([2149.0, 4344.0, 2415.0],\n     recovered-hospital recovered-with-help recovered-unchecked  \\\n 0.0                0.0                 0.0                 0.0   \n 1.0                0.0                 7.0               159.0   \n 2.0                0.0                12.0               307.0   \n 3.0                0.0                16.0               451.0   \n 4.0                0.0                22.0               608.0   \n 5.0                0.0                29.0               750.0   \n \n     fraction-called-in deaths number-destroyed-streets-spotted  \\\n 0.0                0.0   72.0                              0.0   \n 1.0           0.036372   78.0                             85.0   \n 2.0           0.045704   85.0                            154.0   \n 3.0           0.055035   93.0                            196.0   \n 4.0           0.064763   97.0                            246.0   \n 5.0            0.07604  105.0                            294.0   \n \n     fraction-destroyed-streets-spotted  \n 0.0                                0.0  \n 1.0                           0.035197  \n 2.0                           0.063768  \n 3.0                           0.081159  \n 4.0                           0.101863  \n 5.0                           0.121739  )"
     },
     "execution_count": 17,
     "metadata": {},
     "output_type": "execute_result"
    }
   ],
   "source": [
    "run_simulation(\"earthquake-magnitude\", 0.4)"
   ],
   "metadata": {
    "collapsed": false
   }
  },
  {
   "cell_type": "code",
   "execution_count": 13,
   "outputs": [
    {
     "name": "stdout",
     "output_type": "stream",
     "text": [
      "Starting 1 engines with <class 'ipyparallel.cluster.launcher.LocalEngineSetLauncher'>\n"
     ]
    },
    {
     "data": {
      "text/plain": "  0%|          | 0/1 [00:00<?, ?engine/s]",
      "application/vnd.jupyter.widget-view+json": {
       "version_major": 2,
       "version_minor": 0,
       "model_id": "73f0cf55d3df4833947fd5a418a1cfa5"
      }
     },
     "metadata": {},
     "output_type": "display_data"
    },
    {
     "name": "stdout",
     "output_type": "stream",
     "text": [
      "Starting run: earthquake-magnitude = 0.32.\n",
      "set earthquake-magnitude 0.32000000000000006\n",
      "Stopping engine(s): 1674735066\n",
      "engine set stopped 1674735066: {'engines': {'0': {'exit_code': 1, 'pid': 17520, 'identifier': '0'}}, 'exit_code': 1}\n",
      "Stopping controller\n",
      "Controller stopped: {'exit_code': 1, 'pid': 18628, 'identifier': 'ipcontroller-1674735065-4bkk-19408'}\n"
     ]
    },
    {
     "ename": "CompositeError",
     "evalue": "one or more exceptions raised in: ([2249.0, 4288.0, 2563.0],     recovered-hospital recovered-with-help recovered-unchecked  \\\n0.0                0.0                 0.0                 0.0   \n1.0                0.0                 8.0               141.0   \n2.0                0.0                12.0               269.0   \n3.0                0.0                19.0               417.0   \n4.0                0.0                21.0               571.0   \n5.0                0.0                29.0               707.0   \n\n    fraction-called-in deaths number-destroyed-streets-spotted  \\\n0.0                0.0   90.0                              0.0   \n1.0           0.035117  100.0                             80.0   \n2.0           0.045117  108.0                            118.0   \n3.0           0.055733  115.0                            178.0   \n4.0           0.064541  125.0                            242.0   \n5.0           0.074041  131.0                            287.0   \n\n    fraction-destroyed-streets-spotted  \n0.0                                0.0  \n1.0                           0.031213  \n2.0                            0.04604  \n3.0                            0.06945  \n4.0                           0.094421  \n5.0                           0.111978  )\n[0:apply]JVMNotRunning: Java Virtual Machine is not running\n",
     "output_type": "error",
     "traceback": [
      "[0:apply]:",
      "\u001B[1;31m---------------------------------------------------------------------------\u001B[0m",
      "\u001B[1;31mJVMNotRunning\u001B[0m                             Traceback (most recent call last)",
      "File \u001B[1;32m~\\AppData\\Local\\Programs\\Python\\Python311\\Lib\\site-packages\\ipyparallel\\serialize\\serialize.py:208\u001B[0m, in \u001B[0;36munpack_apply_message\u001B[1;34m(bufs, g, copy)\u001B[0m",
      "\u001B[0;32m    206\u001B[0m args \u001B[38;5;241m=\u001B[39m []",
      "\u001B[0;32m    207\u001B[0m \u001B[38;5;28;01mfor\u001B[39;00m i \u001B[38;5;129;01min\u001B[39;00m \u001B[38;5;28mrange\u001B[39m(info[\u001B[38;5;124m'\u001B[39m\u001B[38;5;124mnargs\u001B[39m\u001B[38;5;124m'\u001B[39m]):",
      "\u001B[1;32m--> 208\u001B[0m     arg, arg_bufs \u001B[38;5;241m=\u001B[39m \u001B[43mdeserialize_object\u001B[49m\u001B[43m(\u001B[49m\u001B[43marg_bufs\u001B[49m\u001B[43m,\u001B[49m\u001B[43m \u001B[49m\u001B[43mg\u001B[49m\u001B[43m)\u001B[49m",
      "\u001B[0;32m    209\u001B[0m     args\u001B[38;5;241m.\u001B[39mappend(arg)",
      "\u001B[0;32m    210\u001B[0m args \u001B[38;5;241m=\u001B[39m \u001B[38;5;28mtuple\u001B[39m(args)",
      "",
      "File \u001B[1;32m~\\AppData\\Local\\Programs\\Python\\Python311\\Lib\\site-packages\\ipyparallel\\serialize\\serialize.py:137\u001B[0m, in \u001B[0;36mdeserialize_object\u001B[1;34m(buffers, g)\u001B[0m",
      "\u001B[0;32m    135\u001B[0m bufs \u001B[38;5;241m=\u001B[39m \u001B[38;5;28mlist\u001B[39m(buffers)",
      "\u001B[0;32m    136\u001B[0m pobj \u001B[38;5;241m=\u001B[39m bufs\u001B[38;5;241m.\u001B[39mpop(\u001B[38;5;241m0\u001B[39m)",
      "\u001B[1;32m--> 137\u001B[0m canned \u001B[38;5;241m=\u001B[39m \u001B[43mpickle\u001B[49m\u001B[38;5;241;43m.\u001B[39;49m\u001B[43mloads\u001B[49m\u001B[43m(\u001B[49m\u001B[43mpobj\u001B[49m\u001B[43m)\u001B[49m",
      "\u001B[0;32m    138\u001B[0m \u001B[38;5;28;01mif\u001B[39;00m istype(canned, sequence_types) \u001B[38;5;129;01mand\u001B[39;00m \u001B[38;5;28mlen\u001B[39m(canned) \u001B[38;5;241m<\u001B[39m MAX_ITEMS:",
      "\u001B[0;32m    139\u001B[0m     \u001B[38;5;28;01mfor\u001B[39;00m c \u001B[38;5;129;01min\u001B[39;00m canned:",
      "",
      "\u001B[1;31mJVMNotRunning\u001B[0m: Java Virtual Machine is not running",
      ""
     ]
    }
   ],
   "source": [
    "single_data = {}\n",
    "series_data = {}\n",
    "\n",
    "iteration = list(range(replications))\n",
    "\n",
    "for variable, value in default_values.items():\n",
    "    for c in [0.8, 1.25]:\n",
    "        value = value * c\n",
    "        single_data[f\"{variable}_{value:.2f}\"] = []\n",
    "        series_data[f\"{variable}_{value:.2f}\"] = []\n",
    "        with ipp.Cluster(n=replications) as rc:\n",
    "            print(f\"Starting run: {variable} = {value:.2f}.\")\n",
    "            view = rc.load_balanced_view()\n",
    "            data = view.map_sync(run_simulation(variable, value), iteration)\n",
    "            single_data[f\"{variable}_{value:.2f}\"] = data[0]\n",
    "            series_data[f\"{variable}_{value:.2f}\"] = data[1]\n"
   ],
   "metadata": {
    "collapsed": false
   }
  },
  {
   "cell_type": "code",
   "execution_count": null,
   "outputs": [],
   "source": [
    "series_data"
   ],
   "metadata": {
    "collapsed": false
   }
  }
 ],
 "metadata": {
  "kernelspec": {
   "display_name": "Python 3",
   "language": "python",
   "name": "python3"
  },
  "language_info": {
   "codemirror_mode": {
    "name": "ipython",
    "version": 2
   },
   "file_extension": ".py",
   "mimetype": "text/x-python",
   "name": "python",
   "nbconvert_exporter": "python",
   "pygments_lexer": "ipython2",
   "version": "2.7.6"
  }
 },
 "nbformat": 4,
 "nbformat_minor": 0
}
