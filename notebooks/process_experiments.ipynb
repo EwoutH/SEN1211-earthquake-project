{
 "cells": [
  {
   "cell_type": "markdown",
   "source": [
    "## Experiments"
   ],
   "metadata": {
    "collapsed": false
   }
  },
  {
   "cell_type": "code",
   "execution_count": null,
   "outputs": [],
   "source": [
    "import pandas as pd\n",
    "import seaborn as sns\n",
    "import seaborn.objects as so\n",
    "import matplotlib.pyplot as plt"
   ],
   "metadata": {
    "collapsed": false,
    "pycharm": {
     "is_executing": true
    }
   }
  },
  {
   "cell_type": "code",
   "execution_count": null,
   "outputs": [],
   "source": [
    "series_reporters = [\n",
    "    \"recovered-hospital\",\n",
    "    \"recovered-with-help\",\n",
    "    \"recovered-unchecked\",\n",
    "    \"fraction-called-in\",\n",
    "    \"deaths\",\n",
    "    \"number-destroyed-streets-spotted\",\n",
    "    \"fraction-destroyed-streets-spotted\",\n",
    "]\n",
    "\n",
    "single_reporters = [\n",
    "    'count crossings with [building-status = \"collapsed\"]',\n",
    "    'count crossings with [building-status = \"high-damage\"]',\n",
    "    \"number-destroyed-streets\",\n",
    "]"
   ],
   "metadata": {
    "collapsed": false,
    "pycharm": {
     "is_executing": true
    }
   }
  },
  {
   "cell_type": "code",
   "execution_count": null,
   "outputs": [],
   "source": [
    "replications = 25\n",
    "exp_nr = 6\n",
    "exp_names = [\"no-drones\", \"short-range\", \"slow-reroute\", \"more-drones\", \"large-view\", \"fast-reroute\", \"many-long-range\"]\n",
    "exp_names = [f\"{i}_{name}\" for i, name in enumerate(exp_names)]\n",
    "print(exp_names)"
   ],
   "metadata": {
    "collapsed": false,
    "pycharm": {
     "is_executing": true
    }
   }
  },
  {
   "cell_type": "code",
   "execution_count": null,
   "outputs": [],
   "source": [
    "# Read all the pickles into a dictionary of dataframes\n",
    "dfs = {}\n",
    "for name in exp_names:\n",
    "    dfs[name] = pd.read_pickle(f\"../results/experiments/exp_series_{name}_{replications}r_df.pickle\")"
   ],
   "metadata": {
    "collapsed": false,
    "pycharm": {
     "is_executing": true
    }
   }
  },
  {
   "cell_type": "code",
   "execution_count": null,
   "outputs": [],
   "source": [
    "KPIs = series_reporters[:3]\n",
    "\n",
    "df720 = {}\n",
    "for KPI in KPIs:\n",
    "    df720[KPI] = pd.DataFrame()\n",
    "    for name, df in dfs.items():\n",
    "        df720[KPI][name] = df.iloc[720][KPI]\n",
    "df720[\"recovered-hospital\"].head(3)"
   ],
   "metadata": {
    "collapsed": false,
    "pycharm": {
     "is_executing": true
    }
   }
  },
  {
   "cell_type": "code",
   "execution_count": null,
   "outputs": [],
   "source": [
    "fig, axes = plt.subplots(1,3)\n",
    "fig.set_size_inches(16,5)\n",
    "g = {}\n",
    "for i, KPI in enumerate(KPIs):\n",
    "    g[KPI] = sns.boxplot(df720[KPI], ax=axes[i])\n",
    "    g[KPI].set_xticklabels(g[KPI].get_xticklabels(), rotation=20)\n",
    "    g[KPI].set_title(KPI)\n",
    "    g[KPI].set_ylabel(\"Residents\")\n",
    "fig.savefig(\"../images/recovered_boxplots.svg\")"
   ],
   "metadata": {
    "collapsed": false,
    "pycharm": {
     "is_executing": true
    }
   }
  },
  {
   "cell_type": "markdown",
   "source": [
    "### Dynamics"
   ],
   "metadata": {
    "collapsed": false
   }
  },
  {
   "cell_type": "code",
   "execution_count": null,
   "outputs": [],
   "source": [
    "df_mean = {}\n",
    "for KPI in KPIs:\n",
    "    df_mean[KPI] = pd.DataFrame()\n",
    "    for name, df in dfs.items():\n",
    "        df_mean[KPI][name] = df.iloc[720][KPI]\n",
    "df_mean[\"recovered-hospital\"].head(3)"
   ],
   "metadata": {
    "collapsed": false,
    "pycharm": {
     "is_executing": true
    }
   }
  },
  {
   "cell_type": "code",
   "execution_count": null,
   "outputs": [],
   "source": [
    "df_mean = {}\n",
    "for KPI in KPIs:\n",
    "    df_mean[KPI] = pd.DataFrame()\n",
    "    for name, df in dfs.items():\n",
    "        df_mean[KPI][name] = df[KPI].mean(axis=1)"
   ],
   "metadata": {
    "collapsed": false,
    "pycharm": {
     "is_executing": true
    }
   }
  },
  {
   "cell_type": "code",
   "execution_count": null,
   "outputs": [],
   "source": [
    "fig, axes = plt.subplots(1,3)\n",
    "fig.set_size_inches(16,5)\n",
    "g = {}\n",
    "for i, KPI in enumerate(KPIs):\n",
    "    g[KPI] = sns.lineplot(df_mean[KPI], ax=axes[i])\n",
    "    g[KPI].set_title(f\"{KPI} (mean)\")\n",
    "    g[KPI].set_ylabel(\"Residents\")\n",
    "    g[KPI].set_xlabel(\"Minutes (ticks)\")\n",
    "fig.savefig(\"../images/recovered_lineplots.svg\")"
   ],
   "metadata": {
    "collapsed": false,
    "pycharm": {
     "is_executing": true
    }
   }
  },
  {
   "cell_type": "markdown",
   "source": [],
   "metadata": {
    "collapsed": false
   }
  }
 ],
 "metadata": {
  "kernelspec": {
   "display_name": "Python 3",
   "language": "python",
   "name": "python3"
  },
  "language_info": {
   "codemirror_mode": {
    "name": "ipython",
    "version": 2
   },
   "file_extension": ".py",
   "mimetype": "text/x-python",
   "name": "python",
   "nbconvert_exporter": "python",
   "pygments_lexer": "ipython2",
   "version": "2.7.6"
  }
 },
 "nbformat": 4,
 "nbformat_minor": 0
}
